{
 "cells": [
  {
   "cell_type": "code",
   "execution_count": 1,
   "id": "8ba2b4b1",
   "metadata": {},
   "outputs": [],
   "source": [
    "import pandas as pd\n",
    "import numpy as np\n",
    "import math\n",
    "import pickle\n",
    "import yfinance as yf\n",
    "import scipy.stats as ss\n",
    "import datetime\n",
    "import talib as ta\n",
    "import matplotlib\n",
    "matplotlib.use('TkAgg')  # Or any other interactive backend\n",
    "import matplotlib.pyplot as plt\n",
    "from tqdm import tnrange\n",
    "import kmapper as km\n",
    "import umap\n",
    "import tkinter\n",
    "import sys\n",
    "import sklearn\n",
    "import datetime\n",
    "import plotly.express as px\n",
    "import sklearn.manifold as manifold\n",
    "from sklearn.cluster import AgglomerativeClustering\n",
    "from sklearn.linear_model import LinearRegression\n",
    "from sklearn.metrics import mutual_info_score\n",
    "from scipy.cluster.hierarchy import dendrogram, linkage\n",
    "import ReadData\n",
    "import Feature\n",
    "import PlotDtw\n",
    "import Calmeasures \n",
    "from sklearn.feature_selection import mutual_info_regression\n",
    "from scipy.spatial.distance import squareform\n",
    "import HierCluster\n",
    "import OptimalWondow"
   ]
  },
  {
   "cell_type": "code",
   "execution_count": 2,
   "id": "0207565a",
   "metadata": {},
   "outputs": [],
   "source": [
    "NameOfStocks = ReadData.ReadData(\"Stocks\")\n",
    "Name = NameOfStocks.NameofStocks()"
   ]
  },
  {
   "cell_type": "code",
   "execution_count": 3,
   "id": "db8f8cda",
   "metadata": {},
   "outputs": [],
   "source": [
    "start = datetime.datetime(2010, 2, 1)\n",
    "end = datetime.datetime(2019,3,1)"
   ]
  },
  {
   "cell_type": "code",
   "execution_count": 4,
   "id": "b84b8b93",
   "metadata": {},
   "outputs": [],
   "source": [
    "Data = ReadData.DownloadData()"
   ]
  },
  {
   "cell_type": "code",
   "execution_count": 5,
   "id": "41beba1a",
   "metadata": {},
   "outputs": [
    {
     "name": "stdout",
     "output_type": "stream",
     "text": [
      "[*********************100%***********************]  1 of 1 completed\n",
      "[*********************100%***********************]  1 of 1 completed\n",
      "[*********************100%***********************]  1 of 1 completed\n",
      "[*********************100%***********************]  1 of 1 completed\n",
      "[*********************100%***********************]  1 of 1 completed\n",
      "[*********************100%***********************]  1 of 1 completed\n",
      "[*********************100%***********************]  1 of 1 completed\n",
      "[*********************100%***********************]  1 of 1 completed\n",
      "[*********************100%***********************]  1 of 1 completed\n",
      "[*********************100%***********************]  1 of 1 completed\n",
      "[*********************100%***********************]  1 of 1 completed\n",
      "[*********************100%***********************]  1 of 1 completed\n",
      "[*********************100%***********************]  1 of 1 completed\n",
      "[*********************100%***********************]  1 of 1 completed\n",
      "[*********************100%***********************]  1 of 1 completed\n",
      "[*********************100%***********************]  1 of 1 completed\n",
      "[*********************100%***********************]  1 of 1 completed\n",
      "[*********************100%***********************]  1 of 1 completed\n",
      "[*********************100%***********************]  1 of 1 completed\n",
      "[*********************100%***********************]  1 of 1 completed\n",
      "[*********************100%***********************]  1 of 1 completed\n",
      "[*********************100%***********************]  1 of 1 completed\n",
      "[*********************100%***********************]  1 of 1 completed\n",
      "[*********************100%***********************]  1 of 1 completed\n",
      "[*********************100%***********************]  1 of 1 completed\n",
      "[*********************100%***********************]  1 of 1 completed\n",
      "[*********************100%***********************]  1 of 1 completed\n",
      "[*********************100%***********************]  1 of 1 completed\n",
      "[*********************100%***********************]  1 of 1 completed\n",
      "[*********************100%***********************]  1 of 1 completed\n",
      "[*********************100%***********************]  1 of 1 completed\n",
      "[*********************100%***********************]  1 of 1 completed\n",
      "[*********************100%***********************]  1 of 1 completed\n",
      "[*********************100%***********************]  1 of 1 completed\n",
      "[*********************100%***********************]  1 of 1 completed\n",
      "[*********************100%***********************]  1 of 1 completed\n",
      "[*********************100%***********************]  1 of 1 completed\n",
      "[*********************100%***********************]  1 of 1 completed\n",
      "[*********************100%***********************]  1 of 1 completed\n",
      "[*********************100%***********************]  1 of 1 completed\n",
      "[*********************100%***********************]  1 of 1 completed\n",
      "[*********************100%***********************]  1 of 1 completed\n",
      "[*********************100%***********************]  1 of 1 completed\n",
      "[*********************100%***********************]  1 of 1 completed\n",
      "[*********************100%***********************]  1 of 1 completed\n",
      "[*********************100%***********************]  1 of 1 completed\n",
      "[*********************100%***********************]  1 of 1 completed\n",
      "[*********************100%***********************]  1 of 1 completed\n",
      "[*********************100%***********************]  1 of 1 completed\n",
      "[*********************100%***********************]  1 of 1 completed\n",
      "[*********************100%***********************]  1 of 1 completed\n",
      "[*********************100%***********************]  1 of 1 completed\n",
      "[*********************100%***********************]  1 of 1 completed\n",
      "[*********************100%***********************]  1 of 1 completed\n",
      "[*********************100%***********************]  1 of 1 completed\n",
      "[*********************100%***********************]  1 of 1 completed\n",
      "[*********************100%***********************]  1 of 1 completed\n",
      "[*********************100%***********************]  1 of 1 completed\n",
      "[*********************100%***********************]  1 of 1 completed\n",
      "[*********************100%***********************]  1 of 1 completed\n",
      "[*********************100%***********************]  1 of 1 completed\n",
      "[*********************100%***********************]  1 of 1 completed\n",
      "[*********************100%***********************]  1 of 1 completed\n",
      "[*********************100%***********************]  1 of 1 completed\n",
      "[*********************100%***********************]  1 of 1 completed\n",
      "[*********************100%***********************]  1 of 1 completed\n",
      "[*********************100%***********************]  1 of 1 completed\n",
      "[*********************100%***********************]  1 of 1 completed\n"
     ]
    }
   ],
   "source": [
    "DataDownloaded = Data.Download(Name ,start,end)"
   ]
  },
  {
   "cell_type": "code",
   "execution_count": 6,
   "id": "84bdfb0b",
   "metadata": {},
   "outputs": [],
   "source": [
    "#defining the model \n",
    "Features = Feature.CreatingFeatures(DataDownloaded)"
   ]
  },
  {
   "cell_type": "code",
   "execution_count": 7,
   "id": "02f83d19",
   "metadata": {},
   "outputs": [],
   "source": [
    "DictofAdj,DictofVol,DictofSha,DictofRsi,DictofRet,Time = Features.Features()"
   ]
  },
  {
   "cell_type": "code",
   "execution_count": 8,
   "id": "8d20a91e",
   "metadata": {},
   "outputs": [],
   "source": [
    "model = Calmeasures.Measures(DictofAdj,'MUTUAlGPU',True)"
   ]
  },
  {
   "cell_type": "code",
   "execution_count": 9,
   "id": "1db3997f",
   "metadata": {},
   "outputs": [
    {
     "data": {
      "application/vnd.jupyter.widget-view+json": {
       "model_id": "2cbe625b6371416fb98fe5bd2e4f2b51",
       "version_major": 2,
       "version_minor": 0
      },
      "text/plain": [
       "1st loop:   0%|          | 0/65 [00:00<?, ?it/s]"
      ]
     },
     "metadata": {},
     "output_type": "display_data"
    }
   ],
   "source": [
    "MutualInfMatrix = model.CalCulate()"
   ]
  },
  {
   "cell_type": "code",
   "execution_count": 10,
   "id": "aa88c3d0",
   "metadata": {},
   "outputs": [],
   "source": [
    "Hier=HierCluster.HierClustering(MutualInfMatrix,Ploting=True)\n",
    "DictofClustered,_,_=Hier.Hier()"
   ]
  },
  {
   "cell_type": "code",
   "execution_count": 16,
   "id": "1c560a5d",
   "metadata": {},
   "outputs": [],
   "source": [
    "rer= OptimalWondow.FindingOptimal(DictofClustered,DictofAdj,DictofRet)"
   ]
  },
  {
   "cell_type": "code",
   "execution_count": 17,
   "id": "926b67b1",
   "metadata": {},
   "outputs": [
    {
     "data": {
      "text/plain": [
       "{'Cluster0': {'LLY': 75,\n",
       "  'AMGN': 100,\n",
       "  'MA': 75,\n",
       "  'BA': 100,\n",
       "  'PKG': 75,\n",
       "  'BRK-B': 75,\n",
       "  'V': 100,\n",
       "  'PEP': 25,\n",
       "  'ABT': 75,\n",
       "  'AVGO': 75,\n",
       "  'BLK': 75,\n",
       "  'AAPL': 5,\n",
       "  'AMT': 25,\n",
       "  'ACN': 25,\n",
       "  'AMZN': 100,\n",
       "  'ADBE': 25,\n",
       "  'CMCSA': 100,\n",
       "  'COST': 5,\n",
       "  'CSCO': 75,\n",
       "  'DHR': 5,\n",
       "  'DIS': 5,\n",
       "  'GOOGL': 100,\n",
       "  'HD': 100,\n",
       "  'HON': 5,\n",
       "  'IFF': 5,\n",
       "  'JNJ': 25,\n",
       "  'JPM': 5,\n",
       "  'MSFT': 25,\n",
       "  'NEE': 75,\n",
       "  'NFLX': 25,\n",
       "  'NKE': 5,\n",
       "  'PFE': 75,\n",
       "  'SBUX': 100,\n",
       "  'TMO': 25,\n",
       "  'TXN': 25,\n",
       "  'UNH': 25},\n",
       " 'Cluster1': {'MRK': 75,\n",
       "  'BMY': 100,\n",
       "  'TMUS': 5,\n",
       "  'AXP': 25,\n",
       "  'KO': 25,\n",
       "  'MCD': 25,\n",
       "  'RY': 5,\n",
       "  'AIV': 25,\n",
       "  'CVS': 75,\n",
       "  'INTC': 25,\n",
       "  'IP': 25,\n",
       "  'NVDA': 75,\n",
       "  'PG': 5,\n",
       "  'T': 5,\n",
       "  'TD': 25,\n",
       "  'VZ': 100,\n",
       "  'WFC': 100,\n",
       "  'WMT': 75},\n",
       " 'Cluster2': {'XOM': 75,\n",
       "  'COP': 25,\n",
       "  'CVX': 25,\n",
       "  'PM': 100,\n",
       "  'AES': 75,\n",
       "  'ALB': 100,\n",
       "  'BXP': 5},\n",
       " 'Cluster3': {'BAC': 75, 'C': 100, 'GS': 25, 'MS': 5}}"
      ]
     },
     "execution_count": 17,
     "metadata": {},
     "output_type": "execute_result"
    }
   ],
   "source": [
    "rer.implementing()"
   ]
  },
  {
   "cell_type": "code",
   "execution_count": null,
   "id": "bf77eae6",
   "metadata": {},
   "outputs": [],
   "source": [
    "\n",
    "    "
   ]
  },
  {
   "cell_type": "code",
   "execution_count": 32,
   "id": "c5472044",
   "metadata": {},
   "outputs": [],
   "source": []
  },
  {
   "cell_type": "code",
   "execution_count": null,
   "id": "ce4b5d07",
   "metadata": {},
   "outputs": [],
   "source": []
  },
  {
   "cell_type": "code",
   "execution_count": 37,
   "id": "f26d28b7",
   "metadata": {},
   "outputs": [],
   "source": [
    "       \n",
    "         "
   ]
  },
  {
   "cell_type": "code",
   "execution_count": null,
   "id": "fadeb807",
   "metadata": {},
   "outputs": [],
   "source": []
  },
  {
   "cell_type": "code",
   "execution_count": 43,
   "id": "929afd0d",
   "metadata": {},
   "outputs": [],
   "source": []
  },
  {
   "cell_type": "code",
   "execution_count": null,
   "id": "28e88b8d",
   "metadata": {},
   "outputs": [],
   "source": []
  },
  {
   "cell_type": "code",
   "execution_count": null,
   "id": "7ad3161e",
   "metadata": {},
   "outputs": [],
   "source": []
  },
  {
   "cell_type": "code",
   "execution_count": null,
   "id": "da13ff88",
   "metadata": {},
   "outputs": [],
   "source": []
  },
  {
   "cell_type": "code",
   "execution_count": null,
   "id": "9e600fa4",
   "metadata": {},
   "outputs": [],
   "source": [
    "   "
   ]
  },
  {
   "cell_type": "code",
   "execution_count": null,
   "id": "8eecc6ad",
   "metadata": {},
   "outputs": [],
   "source": []
  },
  {
   "cell_type": "code",
   "execution_count": 45,
   "id": "1bb218ef",
   "metadata": {},
   "outputs": [],
   "source": [
    "def FindinFuturePatter (PriceSeries ,Window, ReturenSeries, k ):\n",
    "    \"\"\"\"\n",
    "    This function act for calculationg decision measure for choosing which pattern is more sutable for prediction tommorow\n",
    "    \"\"\"\n",
    "    BachforPredicting =PriceSeries[-Window:] #seprate a bach of data for finding the most resemble pattern with it \n",
    "    #RestofData = PriceSeries[:-Window]\n",
    "    TomorrowP = list()\n",
    "    TomorrowR = list()\n",
    "    Measure = list ()\n",
    "    for i in range(len(PriceSeries)-2*Window):#searching through pervious data for fining best batter \n",
    "        Tomorrow = PriceSeries[i+Window+1] #seperate tommorow price as an feature for rest of code\n",
    "        SeperatedofWhol = PriceSeries[i:i+Window]#seperate a bach for calculiting resemblance between BachforPredicting and it\n",
    "        Temp = BachforPredicting - SeperatedofWhol\n",
    "        Distance =np.linalg.norm(Temp)#calculate distance\n",
    "        ReturnofTommorow =ReturenSeries[i+Window+1]\n",
    "        TomorrowP.append(Tomorrow)#save Price of tommorow \n",
    "        TomorrowR.append(ReturnofTommorow)#save Returnof tommorow \n",
    "        Measure.append (ReturnofTommorow/Distance)#save measure\n",
    "        \n",
    "    x = np.argsort(Measure)[::-1][:k]\n",
    "    Index = x[k-1]\n",
    "    Best_pettern = [TomorrowP[Index],TomorrowR[Index],Measure[Index]]\n",
    "    \n",
    "    return(Best_pettern)\n",
    "    \n",
    "        \n",
    "        "
   ]
  },
  {
   "cell_type": "code",
   "execution_count": 48,
   "id": "29a2e2a1",
   "metadata": {},
   "outputs": [
    {
     "data": {
      "text/plain": [
       "[61.60187683105469, 0.03804188151279009, 0.002440604121044352]"
      ]
     },
     "execution_count": 48,
     "metadata": {},
     "output_type": "execute_result"
    }
   ],
   "source": [
    "FindinFuturePatter (DictofAdj['XOM'],30,DictofRet['XOM'],1)\n"
   ]
  },
  {
   "cell_type": "code",
   "execution_count": 35,
   "id": "4ff1556d",
   "metadata": {},
   "outputs": [],
   "source": []
  },
  {
   "cell_type": "code",
   "execution_count": 37,
   "id": "49a032e8",
   "metadata": {},
   "outputs": [
    {
     "data": {
      "text/plain": [
       "0"
      ]
     },
     "execution_count": 37,
     "metadata": {},
     "output_type": "execute_result"
    }
   ],
   "source": []
  },
  {
   "cell_type": "code",
   "execution_count": null,
   "id": "ca02fdb4",
   "metadata": {},
   "outputs": [],
   "source": []
  },
  {
   "cell_type": "code",
   "execution_count": null,
   "id": "625414ac",
   "metadata": {},
   "outputs": [],
   "source": []
  },
  {
   "cell_type": "code",
   "execution_count": null,
   "id": "0942a643",
   "metadata": {},
   "outputs": [],
   "source": []
  },
  {
   "cell_type": "code",
   "execution_count": null,
   "id": "34ccd848",
   "metadata": {},
   "outputs": [],
   "source": []
  },
  {
   "cell_type": "code",
   "execution_count": null,
   "id": "224aa463",
   "metadata": {},
   "outputs": [],
   "source": []
  },
  {
   "cell_type": "code",
   "execution_count": null,
   "id": "9de5db50",
   "metadata": {},
   "outputs": [],
   "source": []
  },
  {
   "cell_type": "code",
   "execution_count": null,
   "id": "51b40215",
   "metadata": {},
   "outputs": [],
   "source": []
  },
  {
   "cell_type": "code",
   "execution_count": null,
   "id": "4a81fa36",
   "metadata": {},
   "outputs": [],
   "source": []
  },
  {
   "cell_type": "code",
   "execution_count": null,
   "id": "1df47aae",
   "metadata": {},
   "outputs": [],
   "source": []
  },
  {
   "cell_type": "code",
   "execution_count": null,
   "id": "0781bafb",
   "metadata": {},
   "outputs": [],
   "source": []
  },
  {
   "cell_type": "code",
   "execution_count": null,
   "id": "da624331",
   "metadata": {},
   "outputs": [],
   "source": []
  },
  {
   "cell_type": "code",
   "execution_count": null,
   "id": "9c187a5e",
   "metadata": {},
   "outputs": [],
   "source": []
  },
  {
   "cell_type": "code",
   "execution_count": null,
   "id": "7d4cc826",
   "metadata": {},
   "outputs": [],
   "source": []
  }
 ],
 "metadata": {
  "kernelspec": {
   "display_name": "Python 3 (ipykernel)",
   "language": "python",
   "name": "python3"
  },
  "language_info": {
   "codemirror_mode": {
    "name": "ipython",
    "version": 3
   },
   "file_extension": ".py",
   "mimetype": "text/x-python",
   "name": "python",
   "nbconvert_exporter": "python",
   "pygments_lexer": "ipython3",
   "version": "3.9.12"
  }
 },
 "nbformat": 4,
 "nbformat_minor": 5
}
